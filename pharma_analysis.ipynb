{
 "cells": [
  {
   "cell_type": "markdown",
   "id": "fcf1dbf8-05e1-4030-a6d8-e84742b5b1ad",
   "metadata": {},
   "source": [
    "# Pharma Case Study: Inventory & Disease Analysis"
   ]
  },
  {
   "cell_type": "code",
   "execution_count": 59,
   "id": "8c28cca2-c6fa-4a21-a8b7-f9034aa00f70",
   "metadata": {},
   "outputs": [],
   "source": [
    "# Import libraries\n",
    "import pandas as pd\n",
    "import mysql.connector \n",
    "import matplotlib.pyplot as plt\n"
   ]
  },
  {
   "cell_type": "code",
   "execution_count": 41,
   "id": "001b26cf-dc26-4584-b333-178762843b31",
   "metadata": {},
   "outputs": [],
   "source": [
    "# Connect to MySQL and load data\n",
    "conn = mysql.connector.connect(host=\"localhost\",\n",
    "    user=\"root\",\n",
    "    password=\"khushi7976@\",  \n",
    "    database=\"pharma\")"
   ]
  },
  {
   "cell_type": "code",
   "execution_count": 42,
   "id": "1109d971-ca64-41eb-afdb-f71186176d07",
   "metadata": {},
   "outputs": [],
   "source": [
    "query = 'select * from orders'"
   ]
  },
  {
   "cell_type": "code",
   "execution_count": 43,
   "id": "9b15d7f5-209d-498d-aecc-548519703421",
   "metadata": {},
   "outputs": [
    {
     "name": "stderr",
     "output_type": "stream",
     "text": [
      "C:\\Users\\pc\\AppData\\Local\\Temp\\ipykernel_18732\\354633662.py:1: UserWarning: pandas only supports SQLAlchemy connectable (engine/connection) or database string URI or sqlite3 DBAPI2 connection. Other DBAPI2 objects are not tested. Please consider using SQLAlchemy.\n",
      "  df = pd.read_sql(query,conn)\n"
     ]
    },
    {
     "data": {
      "text/html": [
       "<div>\n",
       "<style scoped>\n",
       "    .dataframe tbody tr th:only-of-type {\n",
       "        vertical-align: middle;\n",
       "    }\n",
       "\n",
       "    .dataframe tbody tr th {\n",
       "        vertical-align: top;\n",
       "    }\n",
       "\n",
       "    .dataframe thead th {\n",
       "        text-align: right;\n",
       "    }\n",
       "</style>\n",
       "<table border=\"1\" class=\"dataframe\">\n",
       "  <thead>\n",
       "    <tr style=\"text-align: right;\">\n",
       "      <th></th>\n",
       "      <th>order_id</th>\n",
       "      <th>hospital_id</th>\n",
       "      <th>region_id</th>\n",
       "      <th>drug_id</th>\n",
       "      <th>order_date</th>\n",
       "      <th>quantity</th>\n",
       "    </tr>\n",
       "  </thead>\n",
       "  <tbody>\n",
       "    <tr>\n",
       "      <th>0</th>\n",
       "      <td>O1001</td>\n",
       "      <td>H001</td>\n",
       "      <td>R01</td>\n",
       "      <td>D001</td>\n",
       "      <td>2024-01-05</td>\n",
       "      <td>500</td>\n",
       "    </tr>\n",
       "    <tr>\n",
       "      <th>1</th>\n",
       "      <td>O1002</td>\n",
       "      <td>H002</td>\n",
       "      <td>R01</td>\n",
       "      <td>D002</td>\n",
       "      <td>2024-01-05</td>\n",
       "      <td>300</td>\n",
       "    </tr>\n",
       "    <tr>\n",
       "      <th>2</th>\n",
       "      <td>O1003</td>\n",
       "      <td>H001</td>\n",
       "      <td>R02</td>\n",
       "      <td>D004</td>\n",
       "      <td>2024-01-12</td>\n",
       "      <td>200</td>\n",
       "    </tr>\n",
       "    <tr>\n",
       "      <th>3</th>\n",
       "      <td>O1004</td>\n",
       "      <td>H003</td>\n",
       "      <td>R02</td>\n",
       "      <td>D005</td>\n",
       "      <td>2024-01-15</td>\n",
       "      <td>450</td>\n",
       "    </tr>\n",
       "    <tr>\n",
       "      <th>4</th>\n",
       "      <td>O1005</td>\n",
       "      <td>H002</td>\n",
       "      <td>R01</td>\n",
       "      <td>D003</td>\n",
       "      <td>2024-01-20</td>\n",
       "      <td>600</td>\n",
       "    </tr>\n",
       "    <tr>\n",
       "      <th>5</th>\n",
       "      <td>O1006</td>\n",
       "      <td>H003</td>\n",
       "      <td>R02</td>\n",
       "      <td>D001</td>\n",
       "      <td>2024-01-22</td>\n",
       "      <td>350</td>\n",
       "    </tr>\n",
       "  </tbody>\n",
       "</table>\n",
       "</div>"
      ],
      "text/plain": [
       "  order_id hospital_id region_id drug_id  order_date  quantity\n",
       "0    O1001        H001       R01    D001  2024-01-05       500\n",
       "1    O1002        H002       R01    D002  2024-01-05       300\n",
       "2    O1003        H001       R02    D004  2024-01-12       200\n",
       "3    O1004        H003       R02    D005  2024-01-15       450\n",
       "4    O1005        H002       R01    D003  2024-01-20       600\n",
       "5    O1006        H003       R02    D001  2024-01-22       350"
      ]
     },
     "execution_count": 43,
     "metadata": {},
     "output_type": "execute_result"
    }
   ],
   "source": [
    "df = pd.read_sql(query,conn)\n",
    "df"
   ]
  },
  {
   "cell_type": "code",
   "execution_count": 44,
   "id": "87661d82-e01a-4577-b38f-1154e72c4c94",
   "metadata": {},
   "outputs": [
    {
     "name": "stderr",
     "output_type": "stream",
     "text": [
      "C:\\Users\\pc\\AppData\\Local\\Temp\\ipykernel_18732\\2507885180.py:1: UserWarning: pandas only supports SQLAlchemy connectable (engine/connection) or database string URI or sqlite3 DBAPI2 connection. Other DBAPI2 objects are not tested. Please consider using SQLAlchemy.\n",
      "  orders = pd.read_sql('SELECT * FROM orders', conn)\n",
      "C:\\Users\\pc\\AppData\\Local\\Temp\\ipykernel_18732\\2507885180.py:2: UserWarning: pandas only supports SQLAlchemy connectable (engine/connection) or database string URI or sqlite3 DBAPI2 connection. Other DBAPI2 objects are not tested. Please consider using SQLAlchemy.\n",
      "  drug_catalog = pd.read_sql('SELECT * FROM drug_catalog', conn)\n",
      "C:\\Users\\pc\\AppData\\Local\\Temp\\ipykernel_18732\\2507885180.py:3: UserWarning: pandas only supports SQLAlchemy connectable (engine/connection) or database string URI or sqlite3 DBAPI2 connection. Other DBAPI2 objects are not tested. Please consider using SQLAlchemy.\n",
      "  inventory = pd.read_sql('SELECT * FROM inventory_snapshot', conn)\n",
      "C:\\Users\\pc\\AppData\\Local\\Temp\\ipykernel_18732\\2507885180.py:4: UserWarning: pandas only supports SQLAlchemy connectable (engine/connection) or database string URI or sqlite3 DBAPI2 connection. Other DBAPI2 objects are not tested. Please consider using SQLAlchemy.\n",
      "  disease = pd.read_sql('SELECT * FROM disease_cases', conn)\n"
     ]
    }
   ],
   "source": [
    "orders = pd.read_sql('SELECT * FROM orders', conn)\n",
    "drug_catalog = pd.read_sql('SELECT * FROM drug_catalog', conn)\n",
    "inventory = pd.read_sql('SELECT * FROM inventory_snapshot', conn)\n",
    "disease = pd.read_sql('SELECT * FROM disease_cases', conn)"
   ]
  },
  {
   "cell_type": "code",
   "execution_count": 45,
   "id": "101da650-279c-4971-90ac-84d1ea88d9e1",
   "metadata": {},
   "outputs": [
    {
     "name": "stdout",
     "output_type": "stream",
     "text": [
      "  order_id hospital_id region_id drug_id  order_date  quantity\n",
      "0    O1001        H001       R01    D001  2024-01-05       500\n",
      "1    O1002        H002       R01    D002  2024-01-05       300\n",
      "2    O1003        H001       R02    D004  2024-01-12       200\n",
      "3    O1004        H003       R02    D005  2024-01-15       450\n",
      "4    O1005        H002       R01    D003  2024-01-20       600\n",
      "  drug_id     drug_name           category  lead_time_days\n",
      "0    D001   Paracetamol          Analgesic               2\n",
      "1    D002  Azithromycin         Antibiotic               5\n",
      "2    D003     Ibuprofen  Anti-inflammatory               3\n",
      "3    D004   Oseltamivir          Antiviral               7\n",
      "4    D005     Metformin       Antidiabetic               4\n",
      "  hospital_id drug_id  current_stock last_updated\n",
      "0        H001    D001            120   2024-01-25\n",
      "1        H001    D004             50   2024-01-25\n",
      "2        H002    D002             80   2024-01-25\n",
      "3        H002    D003             40   2024-01-25\n",
      "4        H003    D005            200   2024-01-25\n",
      "   week_start region_id disease  cases\n",
      "0  2024-01-01       R01  Dengue     45\n",
      "1  2024-01-01       R02     Flu     60\n",
      "2  2024-01-08       R01  Dengue     70\n",
      "3  2024-01-08       R02     Flu     95\n",
      "4  2024-01-15       R01  Dengue    120\n"
     ]
    }
   ],
   "source": [
    "# Data Overview\n",
    "print(orders.head())\n",
    "print(drug_catalog.head())\n",
    "print(inventory.head())\n",
    "print(disease.head())"
   ]
  },
  {
   "cell_type": "code",
   "execution_count": 46,
   "id": "a136f61f-2cde-42bc-9782-1e94b7aed16b",
   "metadata": {},
   "outputs": [
    {
     "name": "stdout",
     "output_type": "stream",
     "text": [
      "<class 'pandas.core.frame.DataFrame'>\n",
      "RangeIndex: 6 entries, 0 to 5\n",
      "Data columns (total 6 columns):\n",
      " #   Column       Non-Null Count  Dtype \n",
      "---  ------       --------------  ----- \n",
      " 0   order_id     6 non-null      object\n",
      " 1   hospital_id  6 non-null      object\n",
      " 2   region_id    6 non-null      object\n",
      " 3   drug_id      6 non-null      object\n",
      " 4   order_date   6 non-null      object\n",
      " 5   quantity     6 non-null      int64 \n",
      "dtypes: int64(1), object(5)\n",
      "memory usage: 420.0+ bytes\n",
      "None\n",
      "         quantity\n",
      "count    6.000000\n",
      "mean   400.000000\n",
      "std    144.913767\n",
      "min    200.000000\n",
      "25%    312.500000\n",
      "50%    400.000000\n",
      "75%    487.500000\n",
      "max    600.000000\n",
      "order_id       0\n",
      "hospital_id    0\n",
      "region_id      0\n",
      "drug_id        0\n",
      "order_date     0\n",
      "quantity       0\n",
      "dtype: int64\n"
     ]
    }
   ],
   "source": [
    "print(orders.info())\n",
    "print(orders.describe())\n",
    "print(orders.isnull().sum())  # missing values\n",
    "\n"
   ]
  },
  {
   "cell_type": "code",
   "execution_count": 53,
   "id": "48c243db-0208-4457-b87c-3769d5c7bf02",
   "metadata": {},
   "outputs": [],
   "source": [
    "orders.columns = orders.columns.str.strip().str.lower().str.replace(' ', '_')\n",
    "drug_catalog.columns = drug_catalog.columns.str.strip().str.lower().str.replace(' ', '_')\n",
    "inventory.columns = inventory.columns.str.strip().str.lower().str.replace(' ', '_')\n",
    "disease.columns = disease.columns.str.strip().str.lower().str.replace(' ', '_')\n"
   ]
  },
  {
   "cell_type": "code",
   "execution_count": 54,
   "id": "9b10e00c-4cea-4e35-af98-75a0754ac806",
   "metadata": {},
   "outputs": [],
   "source": [
    "orders['order_date'] = pd.to_datetime(orders['order_date'])\n",
    "inventory['last_updated'] = pd.to_datetime(inventory['last_updated'])\n",
    "disease['week_start'] = pd.to_datetime(disease['week_start'])\n"
   ]
  },
  {
   "cell_type": "code",
   "execution_count": 55,
   "id": "6bb4e92b-a25e-48c7-93ab-5fe5f92dc496",
   "metadata": {},
   "outputs": [],
   "source": [
    "orders_full = orders.merge(drug_catalog[['drug_id', 'category']], on='drug_id', how='left')\n"
   ]
  },
  {
   "cell_type": "code",
   "execution_count": 56,
   "id": "aca97275-8c4d-4175-ba07-7467c3a1b189",
   "metadata": {},
   "outputs": [
    {
     "name": "stdout",
     "output_type": "stream",
     "text": [
      "Out-of-stock drugs:\n",
      " Empty DataFrame\n",
      "Columns: [hospital_id, drug_id, current_stock, last_updated]\n",
      "Index: []\n"
     ]
    }
   ],
   "source": [
    "# Ensure stock is numeric\n",
    "inventory['current_stock'] = pd.to_numeric(inventory['current_stock'])\n",
    "\n",
    "out_of_stock = inventory[inventory['current_stock'] == 0]\n",
    "print(\"Out-of-stock drugs:\\n\", out_of_stock)\n"
   ]
  },
  {
   "cell_type": "markdown",
   "id": "21df4928-5917-445f-8e66-20003cbf7c95",
   "metadata": {},
   "source": [
    "# Top-selling drugs"
   ]
  },
  {
   "cell_type": "code",
   "execution_count": 47,
   "id": "3f52d0db-b3aa-4de3-8a98-5285437fc5cb",
   "metadata": {},
   "outputs": [
    {
     "name": "stdout",
     "output_type": "stream",
     "text": [
      "drug_id\n",
      "D001    850\n",
      "D003    600\n",
      "D005    450\n",
      "D002    300\n",
      "D004    200\n",
      "Name: quantity, dtype: int64\n"
     ]
    }
   ],
   "source": [
    "# Top 5 drugs by order quantity\n",
    "top_drugs = orders.groupby('drug_id')['quantity'].sum().sort_values(ascending=False).head(5)\n",
    "print(top_drugs)"
   ]
  },
  {
   "cell_type": "code",
   "execution_count": 60,
   "id": "3bf3c060-1582-4e9f-86a3-8fa0893ef794",
   "metadata": {},
   "outputs": [
    {
     "data": {
      "image/png": "[encoded data removed]",
      "text/plain": [
       "<Figure size 640x480 with 1 Axes>"
      ]
     },
     "metadata": {},
     "output_type": "display_data"
    }
   ],
   "source": [
    "top_drugs.plot(kind='bar', title='Top Selling Drugs')\n",
    "plt.ylabel('Quantity Sold')\n",
    "plt.show()\n"
   ]
  },
  {
   "cell_type": "markdown",
   "id": "92b9faf0-125b-4591-a3e0-dcd9255da1cf",
   "metadata": {},
   "source": [
    "# Monthly sales trend"
   ]
  },
  {
   "cell_type": "code",
   "execution_count": 61,
   "id": "1f69ed22-243a-4e52-8bc1-bce5f6b2950b",
   "metadata": {},
   "outputs": [
    {
     "data": {
      "image/png": "[encoded data removed]",
      "text/plain": [
       "<Figure size 640x480 with 1 Axes>"
      ]
     },
     "metadata": {},
     "output_type": "display_data"
    }
   ],
   "source": [
    "monthly_sales = orders.groupby(orders['order_date'].dt.to_period('M'))['quantity'].sum()\n",
    "monthly_sales.index = monthly_sales.index.to_timestamp()  # convert to datetime for plotting\n",
    "\n",
    "monthly_sales.plot(kind='line', marker='o', title='Monthly Drug Sales Trend')\n",
    "plt.xlabel('Month')\n",
    "plt.ylabel('Total Quantity Sold')\n",
    "plt.show()\n"
   ]
  },
  {
   "cell_type": "markdown",
   "id": "b91252e4-d944-413f-b07c-61d277220f8c",
   "metadata": {},
   "source": [
    "# Disease vs drug supply (basic correlation)\n"
   ]
  },
  {
   "cell_type": "code",
   "execution_count": null,
   "id": "6d2441c1-072a-4da1-92bb-662e5aeabe5a",
   "metadata": {},
   "outputs": [],
   "source": [
    "# Aggregate total quantity by region\n",
    "region_sales = orders.groupby('region_id')['quantity'].sum()\n",
    "\n",
    "# Aggregate total cases by region\n",
    "region_cases = disease.groupby('region_id')['cases'].sum()\n",
    "\n",
    "# Merge to see correlation\n",
    "region_analysis = pd.DataFrame({'total_orders': region_sales, 'total_cases': region_cases})\n",
    "print(region_analysis)\n",
    "\n",
    "region_analysis.plot(kind='bar', title='Drug Orders vs Disease Cases by Region')\n",
    "plt.ylabel('Count')\n",
    "plt.show()\n"
   ]
  },
  {
   "cell_type": "code",
   "execution_count": 63,
   "id": "88d54771-7f85-431a-913d-d0b24986558e",
   "metadata": {},
   "outputs": [
    {
     "data": {
      "image/png": "[encoded data removed]",
      "text/plain": [
       "<Figure size 640x480 with 1 Axes>"
      ]
     },
     "metadata": {},
     "output_type": "display_data"
    }
   ],
   "source": [
    "stock_by_drug = inventory.groupby('drug_id')['current_stock'].sum().sort_values(ascending=False)\n",
    "stock_by_drug.plot(kind='bar', title='Current Stock per Drug')\n",
    "plt.ylabel('Current Stock')\n",
    "plt.show()\n"
   ]
  },
  {
   "cell_type": "code",
   "execution_count": 64,
   "id": "5e9744ff-6470-4636-acc2-ae1c0de04ad5",
   "metadata": {},
   "outputs": [
    {
     "data": {
      "image/png": "[encoded data removed]",
      "text/plain": [
       "<Figure size 640x480 with 1 Axes>"
      ]
     },
     "metadata": {},
     "output_type": "display_data"
    }
   ],
   "source": [
    "stock_by_hospital = inventory.groupby('hospital_id')['current_stock'].sum()\n",
    "stock_by_hospital.plot(kind='bar', title='Total Stock per Hospital')\n",
    "plt.ylabel('Current Stock')\n",
    "plt.show()\n"
   ]
  },
  {
   "cell_type": "code",
   "execution_count": 65,
   "id": "5fc7dec6-87e0-4a46-aebe-93d4834f95bf",
   "metadata": {},
   "outputs": [
    {
     "name": "stdout",
     "output_type": "stream",
     "text": [
      "Low-stock drugs:\n",
      "   hospital_id drug_id  current_stock last_updated\n",
      "3        H002    D003             40   2024-01-25\n"
     ]
    }
   ],
   "source": [
    "low_stock = inventory[inventory['current_stock'] < 50]\n",
    "print(\"Low-stock drugs:\\n\", low_stock)\n"
   ]
  },
  {
   "cell_type": "markdown",
   "id": "d1c29ebd-229e-47db-a473-5f4c805a3aca",
   "metadata": {},
   "source": [
    "# Analysis Summary"
   ]
  },
  {
   "cell_type": "markdown",
   "id": "339673f2-1859-4d95-82a1-cbc15157d8c5",
   "metadata": {},
   "source": [
    "Key Insights:\n",
    "1. Some drugs (e.g., Ibuprofen, Oseltamivir) are low in stock in certain hospitals.\n",
    "2. High-demand drugs are Paracetamol, Ibuprofen, and Metformin.\n",
    "3. There is a mismatch between disease cases and orders for corresponding drugs."
   ]
  },
  {
   "cell_type": "markdown",
   "id": "5f2f2d60-c82c-430f-9927-6bf39ac31b74",
   "metadata": {},
   "source": [
    " # Recommendations"
   ]
  },
  {
   "cell_type": "markdown",
   "id": "b3c8e2bb-0cd3-48b5-9f83-ac3ca961d8c3",
   "metadata": {},
   "source": [
    "1. Set low-stock alerts (threshold <50) to prevent stockouts.\n",
    "2. Forecast demand using disease cases and historical orders.\n",
    "3. Redistribute excess stock from hospitals with surplus to those running low.\n",
    "4. Perform weekly stock audits to avoid shortages or overstocking."
   ]
  },
  {
   "cell_type": "markdown",
   "id": "dc65426e-3226-4848-b8de-7d2062ac1607",
   "metadata": {},
   "source": [
    "# Expected Impact"
   ]
  },
  {
   "cell_type": "markdown",
   "id": "56225893-4cda-40a8-8bbb-e8a27e4ebcc8",
   "metadata": {},
   "source": [
    "- Reduce drug shortages and ensure timely availability.\n",
    "- Improve resource allocation across hospitals.\n",
    "- Optimize ordering process, saving costs.\n",
    "- Better preparedness for disease outbreaks."
   ]
  },
  {
   "cell_type": "code",
   "execution_count": null,
   "id": "a7ed5ebd-429e-48b8-b758-3b3e450e99f3",
   "metadata": {},
   "outputs": [],
   "source": []
  }
 ],
 "metadata": {
  "kernelspec": {
   "display_name": "Python [conda env:base] *",
   "language": "python",
   "name": "conda-base-py"
  },
  "language_info": {
   "codemirror_mode": {
    "name": "ipython",
    "version": 3
   },
   "file_extension": ".py",
   "mimetype": "text/x-python",
   "name": "python",
   "nbconvert_exporter": "python",
   "pygments_lexer": "ipython3",
   "version": "3.12.7"
  }
 },
 "nbformat": 4,
 "nbformat_minor": 5
}
